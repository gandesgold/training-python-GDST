{
 "cells": [
  {
   "cell_type": "markdown",
   "metadata": {},
   "source": [
    "### Exploratory Data Analysis\n",
    "\n",
    "Salah satu skill yang harus dimiliki oleh seorang data scientist adalah *Exploratory Data Analysis (EDA)*.\n",
    "\n",
    "EDA dilakukan untuk memastikan integritas data yang diperoleh dan melakukan analisis. \n",
    "\n",
    "Kita akan melakukan EDA pada data ujian SAT dan ACT untuk membandingkan partisipasi dan performa di antara beberapa negara bagian (states) . \n",
    "\n",
    "SAT Exam adalah ujian masuk yang biasa dilakukan oleh institut dan universitas dalam proses penerimaan mahasiswa baru. SAT ujian pilihan ganda dilaksanakan pencil-and-paper test.\n",
    "\n",
    "CAT Exam adalah ujian masuk institut dan universitas berbasis komputer."
   ]
  },
  {
   "cell_type": "markdown",
   "metadata": {},
   "source": [
    "#### Dataset\n",
    "Kita akan menggunakan dataset SAT dan CAT 2017 dan 2018 yang sudah diupload di Google Drive"
   ]
  },
  {
   "cell_type": "markdown",
   "metadata": {},
   "source": [
    "### Tujuan EDA\n",
    "1. Secara cepat mendeskripsikan dataset, mengetahui jumlah baris dan kolom, data yang kosong, tipe data dan preview data\n",
    "2. Membersihkan data yang *corrupt*, mengimputasi data yang kosong, mengatasi data yang tidak valid, atau nilai yang tidak wajar\n",
    "3. Memvisualisasikan dsitribusi data, diagram batang, histogram dan boxplot\n",
    "4. Melakukan kalkulasi dan visualisasi korelasi antar variabel."
   ]
  },
  {
   "cell_type": "code",
   "execution_count": 82,
   "metadata": {},
   "outputs": [],
   "source": [
    "# import sejumlah libraries yang dibutuhkan\n",
    "import numpy as np\n",
    "import pandas as pd\n",
    "import seaborn as sns\n",
    "import matplotlib.pyplot as plt"
   ]
  },
  {
   "cell_type": "code",
   "execution_count": 83,
   "metadata": {},
   "outputs": [
    {
     "name": "stdout",
     "output_type": "stream",
     "text": [
      "C:\\Users\\sitimariyah\\Documents\\Training OJK\\Training 20 Desember 2019\\Dataset\n"
     ]
    }
   ],
   "source": [
    "# Sebelum mengoding, usahakan setting working direktori\n",
    "# dimana disana adalah tempat untuk menyimpan source code dan dataset\n",
    "import os\n",
    "# mengetahui working directori yang aktif\n",
    "\n",
    "# mengubah working direktori yang aktif ke working direktori yang diinginkan\n",
    "os.chdir('C:\\\\Users\\\\sitimariyah\\\\Documents\\\\Training OJK\\\\Training 20 Desember 2019\\\\Dataset')\n",
    "print(os.getcwd())"
   ]
  },
  {
   "cell_type": "code",
   "execution_count": 85,
   "metadata": {},
   "outputs": [],
   "source": [
    "# Membaca data, tuliskan nama file lengkap dengan extension file \".csv\" atau \".txt\", dll\n",
    "sat_17 = pd.read_csv(\"sat_2017.csv\")\n",
    "sat_18 = pd.read_csv(\"sat_2018.csv\")\n",
    "act_17 = pd.read_csv(\"act_2017.csv\")\n",
    "act_18 = pd.read_csv(\"act_2018.csv\")"
   ]
  },
  {
   "cell_type": "markdown",
   "metadata": {},
   "source": [
    "#### Eksplorasi Data dan Membersihkan Data yang Corrupt"
   ]
  },
  {
   "cell_type": "code",
   "execution_count": 86,
   "metadata": {},
   "outputs": [
    {
     "name": "stdout",
     "output_type": "stream",
     "text": [
      "Dimensi SAT 2017 =  (51, 5)\n",
      "Dimensi SAT 2018 =  (51, 5)\n",
      "Dimensi ACT 2017 =  (52, 7)\n",
      "Dimensi ACT 2018 =  (53, 3)\n"
     ]
    }
   ],
   "source": [
    "# Mengetahui dimensi data menggunakan fungsi .shape pada pandas\n",
    "print(\"Dimensi SAT 2017 = \", sat_17.shape)\n",
    "print(\"Dimensi SAT 2018 = \", sat_18.shape)\n",
    "print(\"Dimensi ACT 2017 = \", act_17.shape)\n",
    "print(\"Dimensi ACT 2018 = \", act_18.shape)"
   ]
  },
  {
   "cell_type": "markdown",
   "metadata": {},
   "source": [
    "Dari data ini terlihat ketidak-konsistenan antara data ACT 2017 dan ACT 2018. Kita bisa lihat beberapa baris untuk mengetahui lebih detail"
   ]
  },
  {
   "cell_type": "code",
   "execution_count": 87,
   "metadata": {},
   "outputs": [
    {
     "name": "stdout",
     "output_type": "stream",
     "text": [
      "ACT 2017\n",
      "                  State Participation  English  Math  Reading  Science  \\\n",
      "0              National           60%     20.3  20.7     21.4     21.0   \n",
      "1               Alabama          100%     18.9  18.4     19.7     19.4   \n",
      "2                Alaska           65%     18.7  19.8     20.4     19.9   \n",
      "3               Arizona           62%     18.6  19.8     20.1     19.8   \n",
      "4              Arkansas          100%     18.9  19.0     19.7     19.5   \n",
      "5            California           31%     22.5  22.7     23.1     22.2   \n",
      "6              Colorado          100%     20.1  20.3     21.2     20.9   \n",
      "7           Connecticut           31%     25.5  24.6     25.6     24.6   \n",
      "8              Delaware           18%     24.1  23.4     24.8     23.6   \n",
      "9  District of Columbia           32%     24.4  23.5     24.9     23.5   \n",
      "\n",
      "  Composite  \n",
      "0      21.0  \n",
      "1      19.2  \n",
      "2      19.8  \n",
      "3      19.7  \n",
      "4      19.4  \n",
      "5      22.8  \n",
      "6      20.8  \n",
      "7      25.2  \n",
      "8      24.1  \n",
      "9      24.2   \n",
      "\n",
      "ACT 2018\n",
      "           State Participation Composite\n",
      "0          Maine            7%        24\n",
      "1   Rhode Island           15%      24.2\n",
      "2  New Hampshire           16%      25.1\n",
      "3       Delaware           17%      23.8\n",
      "4   Pennsylvania           20%      23.5\n",
      "5       Michigan           22%      24.2\n",
      "6        Vermont           24%      24.1\n",
      "7       Virginia           24%      23.9\n",
      "8     Washington           24%      22.2\n",
      "9  Massachusetts           25%      25.5\n"
     ]
    }
   ],
   "source": [
    "print(\"ACT 2017\")\n",
    "print(act_17.head(10),\"\\n\") # \\n berfungsi untuk ganti baris\n",
    "print(\"ACT 2018\")\n",
    "print(act_18.head(10)) # tail untuk beberapa data terbawah"
   ]
  },
  {
   "cell_type": "code",
   "execution_count": 88,
   "metadata": {},
   "outputs": [
    {
     "name": "stdout",
     "output_type": "stream",
     "text": [
      "SAT 2017\n",
      "                  State Participation  Evidence-Based Reading and Writing  \\\n",
      "0               Alabama            5%                                 593   \n",
      "1                Alaska           38%                                 547   \n",
      "2               Arizona           30%                                 563   \n",
      "3              Arkansas            3%                                 614   \n",
      "4            California           53%                                 531   \n",
      "5              Colorado           11%                                 606   \n",
      "6           Connecticut          100%                                 530   \n",
      "7              Delaware          100%                                 503   \n",
      "8  District of Columbia          100%                                 482   \n",
      "9               Florida           83%                                 520   \n",
      "\n",
      "   Math  Total  \n",
      "0   572   1165  \n",
      "1   533   1080  \n",
      "2   553   1116  \n",
      "3   594   1208  \n",
      "4   524   1055  \n",
      "5   595   1201  \n",
      "6   512   1041  \n",
      "7   492    996  \n",
      "8   468    950  \n",
      "9   497   1017   \n",
      "\n",
      "SAT 2018\n",
      "                  State Participation  Evidence-Based Reading and Writing  \\\n",
      "0               Alabama            6%                                 595   \n",
      "1                Alaska           43%                                 562   \n",
      "2               Arizona           29%                                 577   \n",
      "3              Arkansas            5%                                 592   \n",
      "4            California           60%                                 540   \n",
      "5              Colorado          100%                                 519   \n",
      "6           Connecticut          100%                                 535   \n",
      "7              Delaware          100%                                 505   \n",
      "8  District of Columbia           92%                                 497   \n",
      "9               Florida           56%                                 550   \n",
      "\n",
      "   Math  Total  \n",
      "0   571   1166  \n",
      "1   544   1106  \n",
      "2   572   1149  \n",
      "3   576   1169  \n",
      "4   536   1076  \n",
      "5   506   1025  \n",
      "6   519   1053  \n",
      "7   492    998  \n",
      "8   480    977  \n",
      "9   549   1099  \n"
     ]
    }
   ],
   "source": [
    "print(\"SAT 2017\")\n",
    "print(sat_17.head(10),\"\\n\") # \\n berfungsi untuk ganti baris\n",
    "print(\"SAT 2018\")\n",
    "print(sat_18.head(10)) # tail untuk beberapa data terbawah"
   ]
  },
  {
   "cell_type": "code",
   "execution_count": 89,
   "metadata": {},
   "outputs": [],
   "source": [
    "rata_rata_math = act_17['Math'].mean()  #rata2\n",
    "rata_rata_english = act_17['English'].mean()\n",
    "std_math = act_17['Math'].var()     #variance\n",
    "std_english = act_17['English'].var()"
   ]
  },
  {
   "cell_type": "code",
   "execution_count": 90,
   "metadata": {},
   "outputs": [
    {
     "name": "stdout",
     "output_type": "stream",
     "text": [
      "Rata-rata Math:  21.173076923076923\n",
      "Rata-rata Engslih:  20.91923076923077\n",
      "Standar deviasi Math:  3.855731523378586\n",
      "Nilai Maksimum Math:  25.3\n",
      "Nilai Minimum Math:  18.0\n"
     ]
    }
   ],
   "source": [
    "print('Rata-rata Math: ', rata_rata_math)\n",
    "print('Rata-rata Engslih: ', rata_rata_english)\n",
    "print('Standar deviasi Math: ', std_math)\n",
    "print('Nilai Maksimum Math: ', act_17['Math'].max())\n",
    "print('Nilai Minimum Math: ', act_17['Math'].min())"
   ]
  },
  {
   "cell_type": "code",
   "execution_count": 91,
   "metadata": {},
   "outputs": [
    {
     "data": {
      "text/html": [
       "<div>\n",
       "<style scoped>\n",
       "    .dataframe tbody tr th:only-of-type {\n",
       "        vertical-align: middle;\n",
       "    }\n",
       "\n",
       "    .dataframe tbody tr th {\n",
       "        vertical-align: top;\n",
       "    }\n",
       "\n",
       "    .dataframe thead th {\n",
       "        text-align: right;\n",
       "    }\n",
       "</style>\n",
       "<table border=\"1\" class=\"dataframe\">\n",
       "  <thead>\n",
       "    <tr style=\"text-align: right;\">\n",
       "      <th></th>\n",
       "      <th>English</th>\n",
       "      <th>Math</th>\n",
       "      <th>Reading</th>\n",
       "      <th>Science</th>\n",
       "    </tr>\n",
       "  </thead>\n",
       "  <tbody>\n",
       "    <tr>\n",
       "      <th>count</th>\n",
       "      <td>52.000000</td>\n",
       "      <td>52.000000</td>\n",
       "      <td>52.000000</td>\n",
       "      <td>52.000000</td>\n",
       "    </tr>\n",
       "    <tr>\n",
       "      <th>mean</th>\n",
       "      <td>20.919231</td>\n",
       "      <td>21.173077</td>\n",
       "      <td>22.001923</td>\n",
       "      <td>21.040385</td>\n",
       "    </tr>\n",
       "    <tr>\n",
       "      <th>std</th>\n",
       "      <td>2.332132</td>\n",
       "      <td>1.963602</td>\n",
       "      <td>2.048672</td>\n",
       "      <td>3.151113</td>\n",
       "    </tr>\n",
       "    <tr>\n",
       "      <th>min</th>\n",
       "      <td>16.300000</td>\n",
       "      <td>18.000000</td>\n",
       "      <td>18.100000</td>\n",
       "      <td>2.300000</td>\n",
       "    </tr>\n",
       "    <tr>\n",
       "      <th>25%</th>\n",
       "      <td>19.000000</td>\n",
       "      <td>19.400000</td>\n",
       "      <td>20.475000</td>\n",
       "      <td>19.900000</td>\n",
       "    </tr>\n",
       "    <tr>\n",
       "      <th>50%</th>\n",
       "      <td>20.550000</td>\n",
       "      <td>20.900000</td>\n",
       "      <td>21.700000</td>\n",
       "      <td>21.150000</td>\n",
       "    </tr>\n",
       "    <tr>\n",
       "      <th>75%</th>\n",
       "      <td>23.300000</td>\n",
       "      <td>23.100000</td>\n",
       "      <td>24.125000</td>\n",
       "      <td>22.525000</td>\n",
       "    </tr>\n",
       "    <tr>\n",
       "      <th>max</th>\n",
       "      <td>25.500000</td>\n",
       "      <td>25.300000</td>\n",
       "      <td>26.000000</td>\n",
       "      <td>24.900000</td>\n",
       "    </tr>\n",
       "  </tbody>\n",
       "</table>\n",
       "</div>"
      ],
      "text/plain": [
       "         English       Math    Reading    Science\n",
       "count  52.000000  52.000000  52.000000  52.000000\n",
       "mean   20.919231  21.173077  22.001923  21.040385\n",
       "std     2.332132   1.963602   2.048672   3.151113\n",
       "min    16.300000  18.000000  18.100000   2.300000\n",
       "25%    19.000000  19.400000  20.475000  19.900000\n",
       "50%    20.550000  20.900000  21.700000  21.150000\n",
       "75%    23.300000  23.100000  24.125000  22.525000\n",
       "max    25.500000  25.300000  26.000000  24.900000"
      ]
     },
     "execution_count": 91,
     "metadata": {},
     "output_type": "execute_result"
    }
   ],
   "source": [
    "act_17.describe()"
   ]
  },
  {
   "cell_type": "markdown",
   "metadata": {},
   "source": [
    "Jika kita lihat data ACT 2017 dan ACT 2018 terdapat perbedaan jumlah baris sehingga ada indikasi terdapat duplikasi data pada ACT 2018. Duplikasi terhadap State yang mengisi data"
   ]
  },
  {
   "cell_type": "code",
   "execution_count": 92,
   "metadata": {},
   "outputs": [
    {
     "data": {
      "text/plain": [
       "Maine               2\n",
       "Maryland            1\n",
       "Nevada              1\n",
       "Arizona             1\n",
       "Arkansas            1\n",
       "North Carolina      1\n",
       "Tennessee           1\n",
       "Minnesota           1\n",
       "North Dakota        1\n",
       "Nebraska            1\n",
       "Alaska              1\n",
       "Kentucky            1\n",
       "West Virginia       1\n",
       "South Carolina      1\n",
       "New Mexico          1\n",
       "Connecticut         1\n",
       "Michigan            1\n",
       "New York            1\n",
       "Idaho               1\n",
       "Mississippi         1\n",
       "Louisiana           1\n",
       "Wisconsin           1\n",
       "Texas               1\n",
       "Iowa                1\n",
       "Florida             1\n",
       "Wyoming             1\n",
       "Oklahoma            1\n",
       "Vermont             1\n",
       "Virginia            1\n",
       "Delaware            1\n",
       "Massachusetts       1\n",
       "Hawaii              1\n",
       "Alabama             1\n",
       "Illinois            1\n",
       "National            1\n",
       "New Hampshire       1\n",
       "Colorado            1\n",
       "Ohio                1\n",
       "New Jersey          1\n",
       "Oregon              1\n",
       "Utah                1\n",
       "Georgia             1\n",
       "Missouri            1\n",
       "Rhode Island        1\n",
       "South Dakota        1\n",
       "Washington          1\n",
       "California          1\n",
       "Pennsylvania        1\n",
       "Kansas              1\n",
       "Washington, D.C.    1\n",
       "Indiana             1\n",
       "Montana             1\n",
       "Name: State, dtype: int64"
      ]
     },
     "execution_count": 92,
     "metadata": {},
     "output_type": "execute_result"
    }
   ],
   "source": [
    "# Gunakan .value_counts pada variabel State\n",
    "act_18['State'].value_counts()"
   ]
  },
  {
   "cell_type": "code",
   "execution_count": 93,
   "metadata": {},
   "outputs": [
    {
     "data": {
      "text/plain": [
       "maine               2\n",
       "maryland            1\n",
       "pennsylvania        1\n",
       "north dakota        1\n",
       "nevada              1\n",
       "new mexico          1\n",
       "georgia             1\n",
       "colorado            1\n",
       "minnesota           1\n",
       "texas               1\n",
       "ohio                1\n",
       "rhode island        1\n",
       "kentucky            1\n",
       "arizona             1\n",
       "south carolina      1\n",
       "south dakota        1\n",
       "washington, d.c.    1\n",
       "alaska              1\n",
       "new jersey          1\n",
       "idaho               1\n",
       "utah                1\n",
       "california          1\n",
       "connecticut         1\n",
       "missouri            1\n",
       "florida             1\n",
       "hawaii              1\n",
       "louisiana           1\n",
       "virginia            1\n",
       "wisconsin           1\n",
       "west virginia       1\n",
       "mississippi         1\n",
       "washington          1\n",
       "kansas              1\n",
       "arkansas            1\n",
       "wyoming             1\n",
       "vermont             1\n",
       "montana             1\n",
       "nebraska            1\n",
       "delaware            1\n",
       "iowa                1\n",
       "north carolina      1\n",
       "oklahoma            1\n",
       "tennessee           1\n",
       "michigan            1\n",
       "alabama             1\n",
       "massachusetts       1\n",
       "new york            1\n",
       "indiana             1\n",
       "national            1\n",
       "oregon              1\n",
       "illinois            1\n",
       "new hampshire       1\n",
       "Name: State, dtype: int64"
      ]
     },
     "execution_count": 93,
     "metadata": {},
     "output_type": "execute_result"
    }
   ],
   "source": [
    "act_18['State'].str.lower().value_counts()\n",
    "#act_18['State'] = act_18['State'].str.lower()"
   ]
  },
  {
   "cell_type": "markdown",
   "metadata": {},
   "source": [
    "Terlihat bahwa negara Maine tercatat dua kali, cek kembali ke data "
   ]
  },
  {
   "cell_type": "code",
   "execution_count": 94,
   "metadata": {},
   "outputs": [
    {
     "data": {
      "text/html": [
       "<div>\n",
       "<style scoped>\n",
       "    .dataframe tbody tr th:only-of-type {\n",
       "        vertical-align: middle;\n",
       "    }\n",
       "\n",
       "    .dataframe tbody tr th {\n",
       "        vertical-align: top;\n",
       "    }\n",
       "\n",
       "    .dataframe thead th {\n",
       "        text-align: right;\n",
       "    }\n",
       "</style>\n",
       "<table border=\"1\" class=\"dataframe\">\n",
       "  <thead>\n",
       "    <tr style=\"text-align: right;\">\n",
       "      <th></th>\n",
       "      <th>State</th>\n",
       "      <th>Participation</th>\n",
       "      <th>Composite</th>\n",
       "    </tr>\n",
       "  </thead>\n",
       "  <tbody>\n",
       "    <tr>\n",
       "      <th>0</th>\n",
       "      <td>Maine</td>\n",
       "      <td>7%</td>\n",
       "      <td>24</td>\n",
       "    </tr>\n",
       "    <tr>\n",
       "      <th>52</th>\n",
       "      <td>Maine</td>\n",
       "      <td>7%</td>\n",
       "      <td>24</td>\n",
       "    </tr>\n",
       "  </tbody>\n",
       "</table>\n",
       "</div>"
      ],
      "text/plain": [
       "    State Participation Composite\n",
       "0   Maine            7%        24\n",
       "52  Maine            7%        24"
      ]
     },
     "execution_count": 94,
     "metadata": {},
     "output_type": "execute_result"
    }
   ],
   "source": [
    "act_18[act_18['State'] == 'Maine']"
   ]
  },
  {
   "cell_type": "markdown",
   "metadata": {},
   "source": [
    "terbukti bahwa State Maine terdata dua kali, maka perbaiki dataframe\n",
    "act_18 untuk menghapus salah satu baris Maine"
   ]
  },
  {
   "cell_type": "code",
   "execution_count": 95,
   "metadata": {},
   "outputs": [
    {
     "data": {
      "text/plain": [
       "(52, 3)"
      ]
     },
     "execution_count": 95,
     "metadata": {},
     "output_type": "execute_result"
    }
   ],
   "source": [
    "# kita akan menghapus berdasarkan index data tersebut berada\n",
    "act_18.drop(act_18.index[52], inplace=True) # inplace ditujukan agar perubahan terjadi pada dataframe\n",
    "act_18 = act_18.reset_index(drop=True)\n",
    "act_18.shape"
   ]
  },
  {
   "cell_type": "markdown",
   "metadata": {},
   "source": [
    "Untuk bisa membandingkan performa State antara nilai ACT dan nilai SAT pada tahun yang sama, maka dua dataframe tersebut harus mengandung State yang sama persis.\n",
    "\n",
    "Disini dibutuhkan kreativitas Anda untuk mengecek apakah ada State yang tidak ada di salah satuh dataframe. Misal,di ACT ada State A yang tidak ada di SAT"
   ]
  },
  {
   "cell_type": "code",
   "execution_count": 96,
   "metadata": {},
   "outputs": [
    {
     "name": "stdout",
     "output_type": "stream",
     "text": [
      "2017 ACT only\n",
      "      State Participation  English  Math  Reading  Science Composite\n",
      "0  National           60%     20.3  20.7     21.4     21.0      21.0 \n",
      "\n",
      "2017 SAT Only\n",
      "Empty DataFrame\n",
      "Columns: [State, Participation, Evidence-Based Reading and Writing, Math, Total]\n",
      "Index: [] \n",
      "\n"
     ]
    }
   ],
   "source": [
    "# State yang ada di ACT 2017 tapi tidak ada di SAT 2017 atau ACT only\n",
    "# dan sebaliknya\n",
    "print(\"2017 ACT only\")  # hanya computer test\n",
    "print(act_17[~act_17['State'].isin(sat_17['State'])], \"\\n\")\n",
    "print(\"2017 SAT Only\")  # hanya paper test\n",
    "print(sat_17[~sat_17['State'].isin(act_17['State'])], \"\\n\")"
   ]
  },
  {
   "cell_type": "code",
   "execution_count": 97,
   "metadata": {},
   "outputs": [
    {
     "name": "stdout",
     "output_type": "stream",
     "text": [
      "2018 ACT only\n",
      "               State Participation Composite\n",
      "16  Washington, D.C.           32%      23.6\n",
      "23          National           50%     #REF! \n",
      "\n",
      "2018 SAT Only\n",
      "                  State Participation  Evidence-Based Reading and Writing  \\\n",
      "8  District of Columbia           92%                                 497   \n",
      "\n",
      "   Math  Total  \n",
      "8   480    977   \n",
      "\n"
     ]
    }
   ],
   "source": [
    "# State yang ada di ACT 2018 tapi tidak ada di SAT 2018 atau ACT only\n",
    "# dan sebaliknya\n",
    "print(\"2018 ACT only\")\n",
    "print(act_18[~act_18['State'].isin(sat_18['State'])], \"\\n\")\n",
    "print(\"2018 SAT Only\")\n",
    "print(sat_18[~sat_18['State'].isin(act_18['State'])], \"\\n\")"
   ]
  },
  {
   "cell_type": "markdown",
   "metadata": {},
   "source": [
    "Sekarang kita tahu bahwa\n",
    "1. Pada tahun 2017, state National hanya ada di ACT 2017\n",
    "2. Pada tahun 2018, state Washington, D.C dan National hanya ada di ACT \n",
    "3. Pada tahun 2018, state District of Columbia hanya ada di SAT 2018\n",
    "\n",
    "maka lakukan perbaikan dengan cara membuang state yang tidak ada di keduanya"
   ]
  },
  {
   "cell_type": "code",
   "execution_count": 98,
   "metadata": {},
   "outputs": [
    {
     "data": {
      "text/plain": [
       "(51, 7)"
      ]
     },
     "execution_count": 98,
     "metadata": {},
     "output_type": "execute_result"
    }
   ],
   "source": [
    "act_17.drop(act_17.index[0], inplace=True)\n",
    "act_17 = act_17.reset_index(drop=True)\n",
    "act_17.shape"
   ]
  },
  {
   "cell_type": "code",
   "execution_count": 99,
   "metadata": {},
   "outputs": [
    {
     "data": {
      "text/html": [
       "<div>\n",
       "<style scoped>\n",
       "    .dataframe tbody tr th:only-of-type {\n",
       "        vertical-align: middle;\n",
       "    }\n",
       "\n",
       "    .dataframe tbody tr th {\n",
       "        vertical-align: top;\n",
       "    }\n",
       "\n",
       "    .dataframe thead th {\n",
       "        text-align: right;\n",
       "    }\n",
       "</style>\n",
       "<table border=\"1\" class=\"dataframe\">\n",
       "  <thead>\n",
       "    <tr style=\"text-align: right;\">\n",
       "      <th></th>\n",
       "      <th>State</th>\n",
       "      <th>Participation</th>\n",
       "      <th>Composite</th>\n",
       "    </tr>\n",
       "  </thead>\n",
       "  <tbody>\n",
       "    <tr>\n",
       "      <th>23</th>\n",
       "      <td>National</td>\n",
       "      <td>50%</td>\n",
       "      <td>#REF!</td>\n",
       "    </tr>\n",
       "  </tbody>\n",
       "</table>\n",
       "</div>"
      ],
      "text/plain": [
       "       State Participation Composite\n",
       "23  National           50%     #REF!"
      ]
     },
     "execution_count": 99,
     "metadata": {},
     "output_type": "execute_result"
    }
   ],
   "source": [
    "act_18[act_18['State'] == 'National']"
   ]
  },
  {
   "cell_type": "code",
   "execution_count": 100,
   "metadata": {},
   "outputs": [
    {
     "data": {
      "text/plain": [
       "(51, 3)"
      ]
     },
     "execution_count": 100,
     "metadata": {},
     "output_type": "execute_result"
    }
   ],
   "source": [
    "act_18.drop(act_18.index[23], inplace=True)\n",
    "act_18 = act_18.reset_index(drop=True)\n",
    "act_18.shape"
   ]
  },
  {
   "cell_type": "markdown",
   "metadata": {},
   "source": [
    "Pada tahun 2018, state District of Columbia hanya ada di SAT 2018 atau tidak ada di ACT 2018. Di ACT 2018 adanya Washington, D.C. Kita mesti cek pada tahun 2017, bisa jadi dikarenakan penamaan yang tidak seragam"
   ]
  },
  {
   "cell_type": "code",
   "execution_count": 101,
   "metadata": {},
   "outputs": [
    {
     "data": {
      "text/html": [
       "<div>\n",
       "<style scoped>\n",
       "    .dataframe tbody tr th:only-of-type {\n",
       "        vertical-align: middle;\n",
       "    }\n",
       "\n",
       "    .dataframe tbody tr th {\n",
       "        vertical-align: top;\n",
       "    }\n",
       "\n",
       "    .dataframe thead th {\n",
       "        text-align: right;\n",
       "    }\n",
       "</style>\n",
       "<table border=\"1\" class=\"dataframe\">\n",
       "  <thead>\n",
       "    <tr style=\"text-align: right;\">\n",
       "      <th></th>\n",
       "      <th>State</th>\n",
       "      <th>Participation</th>\n",
       "      <th>Composite</th>\n",
       "    </tr>\n",
       "  </thead>\n",
       "  <tbody>\n",
       "    <tr>\n",
       "      <th>16</th>\n",
       "      <td>Washington, D.C.</td>\n",
       "      <td>32%</td>\n",
       "      <td>23.6</td>\n",
       "    </tr>\n",
       "  </tbody>\n",
       "</table>\n",
       "</div>"
      ],
      "text/plain": [
       "               State Participation Composite\n",
       "16  Washington, D.C.           32%      23.6"
      ]
     },
     "execution_count": 101,
     "metadata": {},
     "output_type": "execute_result"
    }
   ],
   "source": [
    "act_18[act_18['State']==\"Washington, D.C.\"]"
   ]
  },
  {
   "cell_type": "code",
   "execution_count": 102,
   "metadata": {},
   "outputs": [
    {
     "data": {
      "text/html": [
       "<div>\n",
       "<style scoped>\n",
       "    .dataframe tbody tr th:only-of-type {\n",
       "        vertical-align: middle;\n",
       "    }\n",
       "\n",
       "    .dataframe tbody tr th {\n",
       "        vertical-align: top;\n",
       "    }\n",
       "\n",
       "    .dataframe thead th {\n",
       "        text-align: right;\n",
       "    }\n",
       "</style>\n",
       "<table border=\"1\" class=\"dataframe\">\n",
       "  <thead>\n",
       "    <tr style=\"text-align: right;\">\n",
       "      <th></th>\n",
       "      <th>State</th>\n",
       "      <th>Participation</th>\n",
       "      <th>English</th>\n",
       "      <th>Math</th>\n",
       "      <th>Reading</th>\n",
       "      <th>Science</th>\n",
       "      <th>Composite</th>\n",
       "    </tr>\n",
       "  </thead>\n",
       "  <tbody>\n",
       "  </tbody>\n",
       "</table>\n",
       "</div>"
      ],
      "text/plain": [
       "Empty DataFrame\n",
       "Columns: [State, Participation, English, Math, Reading, Science, Composite]\n",
       "Index: []"
      ]
     },
     "execution_count": 102,
     "metadata": {},
     "output_type": "execute_result"
    }
   ],
   "source": [
    "act_17[act_17['State']==\"Washington, D.C.\"]"
   ]
  },
  {
   "cell_type": "code",
   "execution_count": 103,
   "metadata": {},
   "outputs": [
    {
     "data": {
      "text/html": [
       "<div>\n",
       "<style scoped>\n",
       "    .dataframe tbody tr th:only-of-type {\n",
       "        vertical-align: middle;\n",
       "    }\n",
       "\n",
       "    .dataframe tbody tr th {\n",
       "        vertical-align: top;\n",
       "    }\n",
       "\n",
       "    .dataframe thead th {\n",
       "        text-align: right;\n",
       "    }\n",
       "</style>\n",
       "<table border=\"1\" class=\"dataframe\">\n",
       "  <thead>\n",
       "    <tr style=\"text-align: right;\">\n",
       "      <th></th>\n",
       "      <th>State</th>\n",
       "      <th>Participation</th>\n",
       "      <th>Evidence-Based Reading and Writing</th>\n",
       "      <th>Math</th>\n",
       "      <th>Total</th>\n",
       "    </tr>\n",
       "  </thead>\n",
       "  <tbody>\n",
       "    <tr>\n",
       "      <th>8</th>\n",
       "      <td>District of Columbia</td>\n",
       "      <td>92%</td>\n",
       "      <td>497</td>\n",
       "      <td>480</td>\n",
       "      <td>977</td>\n",
       "    </tr>\n",
       "  </tbody>\n",
       "</table>\n",
       "</div>"
      ],
      "text/plain": [
       "                  State Participation  Evidence-Based Reading and Writing  \\\n",
       "8  District of Columbia           92%                                 497   \n",
       "\n",
       "   Math  Total  \n",
       "8   480    977  "
      ]
     },
     "execution_count": 103,
     "metadata": {},
     "output_type": "execute_result"
    }
   ],
   "source": [
    "sat_18[sat_18['State']==\"District of Columbia\"]"
   ]
  },
  {
   "cell_type": "markdown",
   "metadata": {},
   "source": [
    "kita punya cukup bukti bahwa ada state yang sama dituliskan dengan nama yang berbeda\n",
    "Maka ganti nama State Washington, DC di 2018 dengan District of Columbia"
   ]
  },
  {
   "cell_type": "code",
   "execution_count": 104,
   "metadata": {},
   "outputs": [],
   "source": [
    "act_18['State'].replace({'Washington, D.C.':'District of Columbia'}, inplace=True)"
   ]
  },
  {
   "cell_type": "code",
   "execution_count": 105,
   "metadata": {},
   "outputs": [
    {
     "name": "stdout",
     "output_type": "stream",
     "text": [
      "Empty DataFrame\n",
      "Columns: [State, Participation, English, Math, Reading, Science, Composite]\n",
      "Index: []\n",
      "Empty DataFrame\n",
      "Columns: [State, Participation, Evidence-Based Reading and Writing, Math, Total]\n",
      "Index: []\n",
      "Empty DataFrame\n",
      "Columns: [State, Participation, Composite]\n",
      "Index: []\n",
      "Empty DataFrame\n",
      "Columns: [State, Participation, Evidence-Based Reading and Writing, Math, Total]\n",
      "Index: []\n"
     ]
    }
   ],
   "source": [
    "print(act_17[~act_17['State'].isin(sat_17['State'])])\n",
    "print(sat_17[~sat_17['State'].isin(act_17['State'])])\n",
    "\n",
    "print(act_18[~act_18['State'].isin(sat_18['State'])])\n",
    "print(sat_18[~sat_18['State'].isin(act_18['State'])])"
   ]
  },
  {
   "cell_type": "code",
   "execution_count": 106,
   "metadata": {},
   "outputs": [
    {
     "data": {
      "text/html": [
       "<div>\n",
       "<style scoped>\n",
       "    .dataframe tbody tr th:only-of-type {\n",
       "        vertical-align: middle;\n",
       "    }\n",
       "\n",
       "    .dataframe tbody tr th {\n",
       "        vertical-align: top;\n",
       "    }\n",
       "\n",
       "    .dataframe thead th {\n",
       "        text-align: right;\n",
       "    }\n",
       "</style>\n",
       "<table border=\"1\" class=\"dataframe\">\n",
       "  <thead>\n",
       "    <tr style=\"text-align: right;\">\n",
       "      <th></th>\n",
       "      <th>State</th>\n",
       "      <th>Participation</th>\n",
       "      <th>Evidence-Based Reading and Writing</th>\n",
       "      <th>Math</th>\n",
       "      <th>Total</th>\n",
       "    </tr>\n",
       "  </thead>\n",
       "  <tbody>\n",
       "    <tr>\n",
       "      <th>0</th>\n",
       "      <td>Alabama</td>\n",
       "      <td>5%</td>\n",
       "      <td>593</td>\n",
       "      <td>572</td>\n",
       "      <td>1165</td>\n",
       "    </tr>\n",
       "    <tr>\n",
       "      <th>1</th>\n",
       "      <td>Alaska</td>\n",
       "      <td>38%</td>\n",
       "      <td>547</td>\n",
       "      <td>533</td>\n",
       "      <td>1080</td>\n",
       "    </tr>\n",
       "    <tr>\n",
       "      <th>2</th>\n",
       "      <td>Arizona</td>\n",
       "      <td>30%</td>\n",
       "      <td>563</td>\n",
       "      <td>553</td>\n",
       "      <td>1116</td>\n",
       "    </tr>\n",
       "    <tr>\n",
       "      <th>3</th>\n",
       "      <td>Arkansas</td>\n",
       "      <td>3%</td>\n",
       "      <td>614</td>\n",
       "      <td>594</td>\n",
       "      <td>1208</td>\n",
       "    </tr>\n",
       "    <tr>\n",
       "      <th>4</th>\n",
       "      <td>California</td>\n",
       "      <td>53%</td>\n",
       "      <td>531</td>\n",
       "      <td>524</td>\n",
       "      <td>1055</td>\n",
       "    </tr>\n",
       "  </tbody>\n",
       "</table>\n",
       "</div>"
      ],
      "text/plain": [
       "        State Participation  Evidence-Based Reading and Writing  Math  Total\n",
       "0     Alabama            5%                                 593   572   1165\n",
       "1      Alaska           38%                                 547   533   1080\n",
       "2     Arizona           30%                                 563   553   1116\n",
       "3    Arkansas            3%                                 614   594   1208\n",
       "4  California           53%                                 531   524   1055"
      ]
     },
     "execution_count": 106,
     "metadata": {},
     "output_type": "execute_result"
    }
   ],
   "source": [
    "sat_17.head()"
   ]
  },
  {
   "cell_type": "code",
   "execution_count": 107,
   "metadata": {},
   "outputs": [
    {
     "data": {
      "text/html": [
       "<div>\n",
       "<style scoped>\n",
       "    .dataframe tbody tr th:only-of-type {\n",
       "        vertical-align: middle;\n",
       "    }\n",
       "\n",
       "    .dataframe tbody tr th {\n",
       "        vertical-align: top;\n",
       "    }\n",
       "\n",
       "    .dataframe thead th {\n",
       "        text-align: right;\n",
       "    }\n",
       "</style>\n",
       "<table border=\"1\" class=\"dataframe\">\n",
       "  <thead>\n",
       "    <tr style=\"text-align: right;\">\n",
       "      <th></th>\n",
       "      <th>State</th>\n",
       "      <th>Participation</th>\n",
       "      <th>Evidence-Based Reading and Writing</th>\n",
       "      <th>Math</th>\n",
       "      <th>Total</th>\n",
       "    </tr>\n",
       "  </thead>\n",
       "  <tbody>\n",
       "    <tr>\n",
       "      <th>0</th>\n",
       "      <td>Alabama</td>\n",
       "      <td>6%</td>\n",
       "      <td>595</td>\n",
       "      <td>571</td>\n",
       "      <td>1166</td>\n",
       "    </tr>\n",
       "    <tr>\n",
       "      <th>1</th>\n",
       "      <td>Alaska</td>\n",
       "      <td>43%</td>\n",
       "      <td>562</td>\n",
       "      <td>544</td>\n",
       "      <td>1106</td>\n",
       "    </tr>\n",
       "    <tr>\n",
       "      <th>2</th>\n",
       "      <td>Arizona</td>\n",
       "      <td>29%</td>\n",
       "      <td>577</td>\n",
       "      <td>572</td>\n",
       "      <td>1149</td>\n",
       "    </tr>\n",
       "    <tr>\n",
       "      <th>3</th>\n",
       "      <td>Arkansas</td>\n",
       "      <td>5%</td>\n",
       "      <td>592</td>\n",
       "      <td>576</td>\n",
       "      <td>1169</td>\n",
       "    </tr>\n",
       "    <tr>\n",
       "      <th>4</th>\n",
       "      <td>California</td>\n",
       "      <td>60%</td>\n",
       "      <td>540</td>\n",
       "      <td>536</td>\n",
       "      <td>1076</td>\n",
       "    </tr>\n",
       "  </tbody>\n",
       "</table>\n",
       "</div>"
      ],
      "text/plain": [
       "        State Participation  Evidence-Based Reading and Writing  Math  Total\n",
       "0     Alabama            6%                                 595   571   1166\n",
       "1      Alaska           43%                                 562   544   1106\n",
       "2     Arizona           29%                                 577   572   1149\n",
       "3    Arkansas            5%                                 592   576   1169\n",
       "4  California           60%                                 540   536   1076"
      ]
     },
     "execution_count": 107,
     "metadata": {},
     "output_type": "execute_result"
    }
   ],
   "source": [
    "sat_18.head()"
   ]
  },
  {
   "cell_type": "code",
   "execution_count": 108,
   "metadata": {},
   "outputs": [
    {
     "data": {
      "text/html": [
       "<div>\n",
       "<style scoped>\n",
       "    .dataframe tbody tr th:only-of-type {\n",
       "        vertical-align: middle;\n",
       "    }\n",
       "\n",
       "    .dataframe tbody tr th {\n",
       "        vertical-align: top;\n",
       "    }\n",
       "\n",
       "    .dataframe thead th {\n",
       "        text-align: right;\n",
       "    }\n",
       "</style>\n",
       "<table border=\"1\" class=\"dataframe\">\n",
       "  <thead>\n",
       "    <tr style=\"text-align: right;\">\n",
       "      <th></th>\n",
       "      <th>State</th>\n",
       "      <th>Participation</th>\n",
       "      <th>English</th>\n",
       "      <th>Math</th>\n",
       "      <th>Reading</th>\n",
       "      <th>Science</th>\n",
       "      <th>Composite</th>\n",
       "    </tr>\n",
       "  </thead>\n",
       "  <tbody>\n",
       "    <tr>\n",
       "      <th>0</th>\n",
       "      <td>Alabama</td>\n",
       "      <td>100%</td>\n",
       "      <td>18.9</td>\n",
       "      <td>18.4</td>\n",
       "      <td>19.7</td>\n",
       "      <td>19.4</td>\n",
       "      <td>19.2</td>\n",
       "    </tr>\n",
       "    <tr>\n",
       "      <th>1</th>\n",
       "      <td>Alaska</td>\n",
       "      <td>65%</td>\n",
       "      <td>18.7</td>\n",
       "      <td>19.8</td>\n",
       "      <td>20.4</td>\n",
       "      <td>19.9</td>\n",
       "      <td>19.8</td>\n",
       "    </tr>\n",
       "    <tr>\n",
       "      <th>2</th>\n",
       "      <td>Arizona</td>\n",
       "      <td>62%</td>\n",
       "      <td>18.6</td>\n",
       "      <td>19.8</td>\n",
       "      <td>20.1</td>\n",
       "      <td>19.8</td>\n",
       "      <td>19.7</td>\n",
       "    </tr>\n",
       "    <tr>\n",
       "      <th>3</th>\n",
       "      <td>Arkansas</td>\n",
       "      <td>100%</td>\n",
       "      <td>18.9</td>\n",
       "      <td>19.0</td>\n",
       "      <td>19.7</td>\n",
       "      <td>19.5</td>\n",
       "      <td>19.4</td>\n",
       "    </tr>\n",
       "    <tr>\n",
       "      <th>4</th>\n",
       "      <td>California</td>\n",
       "      <td>31%</td>\n",
       "      <td>22.5</td>\n",
       "      <td>22.7</td>\n",
       "      <td>23.1</td>\n",
       "      <td>22.2</td>\n",
       "      <td>22.8</td>\n",
       "    </tr>\n",
       "  </tbody>\n",
       "</table>\n",
       "</div>"
      ],
      "text/plain": [
       "        State Participation  English  Math  Reading  Science Composite\n",
       "0     Alabama          100%     18.9  18.4     19.7     19.4      19.2\n",
       "1      Alaska           65%     18.7  19.8     20.4     19.9      19.8\n",
       "2     Arizona           62%     18.6  19.8     20.1     19.8      19.7\n",
       "3    Arkansas          100%     18.9  19.0     19.7     19.5      19.4\n",
       "4  California           31%     22.5  22.7     23.1     22.2      22.8"
      ]
     },
     "execution_count": 108,
     "metadata": {},
     "output_type": "execute_result"
    }
   ],
   "source": [
    "act_17.head()"
   ]
  },
  {
   "cell_type": "code",
   "execution_count": 109,
   "metadata": {},
   "outputs": [
    {
     "data": {
      "text/html": [
       "<div>\n",
       "<style scoped>\n",
       "    .dataframe tbody tr th:only-of-type {\n",
       "        vertical-align: middle;\n",
       "    }\n",
       "\n",
       "    .dataframe tbody tr th {\n",
       "        vertical-align: top;\n",
       "    }\n",
       "\n",
       "    .dataframe thead th {\n",
       "        text-align: right;\n",
       "    }\n",
       "</style>\n",
       "<table border=\"1\" class=\"dataframe\">\n",
       "  <thead>\n",
       "    <tr style=\"text-align: right;\">\n",
       "      <th></th>\n",
       "      <th>State</th>\n",
       "      <th>Participation</th>\n",
       "      <th>Composite</th>\n",
       "    </tr>\n",
       "  </thead>\n",
       "  <tbody>\n",
       "    <tr>\n",
       "      <th>0</th>\n",
       "      <td>Maine</td>\n",
       "      <td>7%</td>\n",
       "      <td>24</td>\n",
       "    </tr>\n",
       "    <tr>\n",
       "      <th>1</th>\n",
       "      <td>Rhode Island</td>\n",
       "      <td>15%</td>\n",
       "      <td>24.2</td>\n",
       "    </tr>\n",
       "    <tr>\n",
       "      <th>2</th>\n",
       "      <td>New Hampshire</td>\n",
       "      <td>16%</td>\n",
       "      <td>25.1</td>\n",
       "    </tr>\n",
       "    <tr>\n",
       "      <th>3</th>\n",
       "      <td>Delaware</td>\n",
       "      <td>17%</td>\n",
       "      <td>23.8</td>\n",
       "    </tr>\n",
       "    <tr>\n",
       "      <th>4</th>\n",
       "      <td>Pennsylvania</td>\n",
       "      <td>20%</td>\n",
       "      <td>23.5</td>\n",
       "    </tr>\n",
       "  </tbody>\n",
       "</table>\n",
       "</div>"
      ],
      "text/plain": [
       "           State Participation Composite\n",
       "0          Maine            7%        24\n",
       "1   Rhode Island           15%      24.2\n",
       "2  New Hampshire           16%      25.1\n",
       "3       Delaware           17%      23.8\n",
       "4   Pennsylvania           20%      23.5"
      ]
     },
     "execution_count": 109,
     "metadata": {},
     "output_type": "execute_result"
    }
   ],
   "source": [
    "act_18.head()"
   ]
  },
  {
   "cell_type": "code",
   "execution_count": 110,
   "metadata": {},
   "outputs": [
    {
     "name": "stdout",
     "output_type": "stream",
     "text": [
      "SAT 2017 Tipe Data:  State                                 object\n",
      "Participation                         object\n",
      "Evidence-Based Reading and Writing     int64\n",
      "Math                                   int64\n",
      "Total                                  int64\n",
      "dtype: object\n",
      "SAT 2018 Tipe Data:  State                                 object\n",
      "Participation                         object\n",
      "Evidence-Based Reading and Writing     int64\n",
      "Math                                   int64\n",
      "Total                                  int64\n",
      "dtype: object\n",
      "ACT 2017 Tipe Data:  State             object\n",
      "Participation     object\n",
      "English          float64\n",
      "Math             float64\n",
      "Reading          float64\n",
      "Science          float64\n",
      "Composite         object\n",
      "dtype: object\n",
      "ACT 2018 Tipe Data:  State            object\n",
      "Participation    object\n",
      "Composite        object\n",
      "dtype: object\n"
     ]
    }
   ],
   "source": [
    "print(\"SAT 2017 Tipe Data: \", sat_17.dtypes)\n",
    "print(\"SAT 2018 Tipe Data: \", sat_18.dtypes)\n",
    "print(\"ACT 2017 Tipe Data: \", act_17.dtypes)\n",
    "print(\"ACT 2018 Tipe Data: \", act_18.dtypes)"
   ]
  },
  {
   "cell_type": "code",
   "execution_count": 111,
   "metadata": {},
   "outputs": [],
   "source": [
    "# function untuk mengubah tipe data\n",
    "\n",
    "# membuang % terlebih dahulu\n",
    "def fix_percent(column):\n",
    "    # parameter berupa nama kolom\n",
    "    column = column.apply(lambda cells : cells.strip('%'))\n",
    "    return column.apply(lambda cells : cells.replace('x',''))\n",
    "\n",
    "def convert_to_float(exam_df):# untuk mengubah tipe data menjadi float pada semua kolom kecuali kolom State\n",
    "    #paramater berupa data frame\n",
    "    features = [col for col in exam_df.columns if col != 'State']\n",
    "    exam_df[features] = exam_df[features].astype(float)\n",
    "    return exam_df"
   ]
  },
  {
   "cell_type": "code",
   "execution_count": 112,
   "metadata": {},
   "outputs": [
    {
     "data": {
      "text/plain": [
       "0      19.2\n",
       "1      19.8\n",
       "2      19.7\n",
       "3      19.4\n",
       "4      22.8\n",
       "5      20.8\n",
       "6      25.2\n",
       "7      24.1\n",
       "8      24.2\n",
       "9      19.8\n",
       "10     21.4\n",
       "11     19.0\n",
       "12     22.3\n",
       "13     21.4\n",
       "14     22.6\n",
       "15     21.9\n",
       "16     21.7\n",
       "17     20.0\n",
       "18     19.5\n",
       "19     24.3\n",
       "20     23.6\n",
       "21     25.4\n",
       "22     24.1\n",
       "23     21.5\n",
       "24     18.6\n",
       "25     20.4\n",
       "26     20.3\n",
       "27     21.4\n",
       "28     17.8\n",
       "29     25.5\n",
       "30     23.9\n",
       "31     19.7\n",
       "32     24.2\n",
       "33     19.1\n",
       "34     20.3\n",
       "35     22.0\n",
       "36     19.4\n",
       "37     21.8\n",
       "38     23.7\n",
       "39     24.0\n",
       "40     18.7\n",
       "41     21.8\n",
       "42     19.8\n",
       "43     20.7\n",
       "44     20.3\n",
       "45     23.6\n",
       "46     23.8\n",
       "47     21.9\n",
       "48     20.4\n",
       "49     20.5\n",
       "50    20.2x\n",
       "Name: Composite, dtype: object"
      ]
     },
     "execution_count": 112,
     "metadata": {},
     "output_type": "execute_result"
    }
   ],
   "source": [
    "act_17['Composite']"
   ]
  },
  {
   "cell_type": "code",
   "execution_count": 113,
   "metadata": {},
   "outputs": [],
   "source": [
    "sat_17['Participation'] = fix_percent(sat_17['Participation'])\n",
    "sat_18['Participation'] = fix_percent(sat_18['Participation'])\n",
    "act_17['Participation'] = fix_percent(act_17['Participation'])\n",
    "act_18['Participation'] = fix_percent(act_18['Participation'])\n",
    "act_17['Composite'] = fix_percent(act_17['Composite'])"
   ]
  },
  {
   "cell_type": "code",
   "execution_count": 114,
   "metadata": {},
   "outputs": [],
   "source": [
    "# ubah ke float dengan memanggil fungsi convert_to_float() yang sudah dibuat sebelumnya\n",
    "act_17 = convert_to_float(act_17)\n",
    "act_18 = convert_to_float(act_18)\n",
    "sat_17 = convert_to_float(sat_17)\n",
    "sat_18 = convert_to_float(sat_18)"
   ]
  },
  {
   "cell_type": "code",
   "execution_count": 119,
   "metadata": {},
   "outputs": [
    {
     "name": "stdout",
     "output_type": "stream",
     "text": [
      "Index(['State', 'Participation', 'Evidence-Based Reading and Writing', 'Math',\n",
      "       'Total'],\n",
      "      dtype='object')\n",
      "Index(['State', 'Participation', 'English', 'Math', 'Reading', 'Science',\n",
      "       'Composite', 'State_alias'],\n",
      "      dtype='object')\n"
     ]
    }
   ],
   "source": [
    "print(sat_17.columns)\n",
    "print(act_17.columns)"
   ]
  },
  {
   "cell_type": "code",
   "execution_count": 120,
   "metadata": {},
   "outputs": [
    {
     "name": "stdout",
     "output_type": "stream",
     "text": [
      "Index(['State', 'Participation', 'Evidence-Based Reading and Writing', 'Math',\n",
      "       'Total'],\n",
      "      dtype='object')\n",
      "Index(['State', 'Participation', 'Composite'], dtype='object')\n"
     ]
    }
   ],
   "source": [
    "print(sat_18.columns)\n",
    "print(act_18.columns)"
   ]
  },
  {
   "cell_type": "code",
   "execution_count": 121,
   "metadata": {},
   "outputs": [
    {
     "name": "stdout",
     "output_type": "stream",
     "text": [
      "Variabel SAT 2017 = Index(['State', 'Participation', 'Total'], dtype='object') \n",
      "\n",
      "Variabel SAT 2018 = Index(['State', 'Participation', 'Total'], dtype='object') \n",
      "\n",
      "Variabel ACT 2017 = Index(['State', 'Participation', 'Composite', 'State_alias'], dtype='object') \n",
      "\n",
      "Variabel ACT 2018 = Index(['State', 'Participation', 'Composite'], dtype='object') \n",
      "\n"
     ]
    }
   ],
   "source": [
    "#drop variabel\n",
    "sat_17.drop(columns=['Evidence-Based Reading and Writing','Math'], inplace=True)\n",
    "act_17.drop(columns=['English', 'Math', 'Reading', 'Science'], inplace=True)\n",
    "sat_18.drop(columns=['Evidence-Based Reading and Writing', 'Math'], inplace=True)\n",
    "print(\"Variabel SAT 2017 =\", sat_17.columns, \"\\n\")\n",
    "print(\"Variabel SAT 2018 =\", sat_18.columns, \"\\n\")\n",
    "print(\"Variabel ACT 2017 =\", act_17.columns, \"\\n\")\n",
    "print(\"Variabel ACT 2018 =\", act_18.columns, \"\\n\")"
   ]
  },
  {
   "cell_type": "code",
   "execution_count": 122,
   "metadata": {},
   "outputs": [
    {
     "name": "stdout",
     "output_type": "stream",
     "text": [
      "SAT 2017 Missing Data:  State            0\n",
      "Participation    0\n",
      "Total            0\n",
      "dtype: int64\n",
      "SAT 2018 Missing Data:  State            0\n",
      "Participation    0\n",
      "Total            0\n",
      "dtype: int64\n",
      "ACT 2017 Missing Data:  State            0\n",
      "Participation    0\n",
      "Composite        0\n",
      "State_alias      0\n",
      "dtype: int64\n",
      "ACT 2018 Missing Data:  State            0\n",
      "Participation    0\n",
      "Composite        0\n",
      "dtype: int64\n"
     ]
    }
   ],
   "source": [
    "print(\"SAT 2017 Missing Data: \", sat_17.isnull().sum())\n",
    "print(\"SAT 2018 Missing Data: \", sat_18.isnull().sum())\n",
    "print(\"ACT 2017 Missing Data: \", act_17.isnull().sum())\n",
    "print(\"ACT 2018 Missing Data: \", act_18.isnull().sum())"
   ]
  },
  {
   "cell_type": "code",
   "execution_count": 115,
   "metadata": {},
   "outputs": [
    {
     "data": {
      "text/html": [
       "<div>\n",
       "<style scoped>\n",
       "    .dataframe tbody tr th:only-of-type {\n",
       "        vertical-align: middle;\n",
       "    }\n",
       "\n",
       "    .dataframe tbody tr th {\n",
       "        vertical-align: top;\n",
       "    }\n",
       "\n",
       "    .dataframe thead th {\n",
       "        text-align: right;\n",
       "    }\n",
       "</style>\n",
       "<table border=\"1\" class=\"dataframe\">\n",
       "  <thead>\n",
       "    <tr style=\"text-align: right;\">\n",
       "      <th></th>\n",
       "      <th>State</th>\n",
       "      <th>Participation</th>\n",
       "      <th>English</th>\n",
       "      <th>Math</th>\n",
       "      <th>Reading</th>\n",
       "      <th>Science</th>\n",
       "      <th>Composite</th>\n",
       "    </tr>\n",
       "  </thead>\n",
       "  <tbody>\n",
       "    <tr>\n",
       "      <th>0</th>\n",
       "      <td>Alabama</td>\n",
       "      <td>100.0</td>\n",
       "      <td>18.9</td>\n",
       "      <td>18.4</td>\n",
       "      <td>19.7</td>\n",
       "      <td>19.4</td>\n",
       "      <td>19.2</td>\n",
       "    </tr>\n",
       "    <tr>\n",
       "      <th>1</th>\n",
       "      <td>Alaska</td>\n",
       "      <td>65.0</td>\n",
       "      <td>18.7</td>\n",
       "      <td>19.8</td>\n",
       "      <td>20.4</td>\n",
       "      <td>19.9</td>\n",
       "      <td>19.8</td>\n",
       "    </tr>\n",
       "    <tr>\n",
       "      <th>2</th>\n",
       "      <td>Arizona</td>\n",
       "      <td>62.0</td>\n",
       "      <td>18.6</td>\n",
       "      <td>19.8</td>\n",
       "      <td>20.1</td>\n",
       "      <td>19.8</td>\n",
       "      <td>19.7</td>\n",
       "    </tr>\n",
       "    <tr>\n",
       "      <th>3</th>\n",
       "      <td>Arkansas</td>\n",
       "      <td>100.0</td>\n",
       "      <td>18.9</td>\n",
       "      <td>19.0</td>\n",
       "      <td>19.7</td>\n",
       "      <td>19.5</td>\n",
       "      <td>19.4</td>\n",
       "    </tr>\n",
       "    <tr>\n",
       "      <th>4</th>\n",
       "      <td>California</td>\n",
       "      <td>31.0</td>\n",
       "      <td>22.5</td>\n",
       "      <td>22.7</td>\n",
       "      <td>23.1</td>\n",
       "      <td>22.2</td>\n",
       "      <td>22.8</td>\n",
       "    </tr>\n",
       "  </tbody>\n",
       "</table>\n",
       "</div>"
      ],
      "text/plain": [
       "        State  Participation  English  Math  Reading  Science  Composite\n",
       "0     Alabama          100.0     18.9  18.4     19.7     19.4       19.2\n",
       "1      Alaska           65.0     18.7  19.8     20.4     19.9       19.8\n",
       "2     Arizona           62.0     18.6  19.8     20.1     19.8       19.7\n",
       "3    Arkansas          100.0     18.9  19.0     19.7     19.5       19.4\n",
       "4  California           31.0     22.5  22.7     23.1     22.2       22.8"
      ]
     },
     "execution_count": 115,
     "metadata": {},
     "output_type": "execute_result"
    }
   ],
   "source": [
    "act_17.head()"
   ]
  },
  {
   "cell_type": "code",
   "execution_count": 116,
   "metadata": {},
   "outputs": [],
   "source": [
    "def alias(column):\n",
    "    column = column.apply(lambda cells : cells[:4])\n",
    "    return column"
   ]
  },
  {
   "cell_type": "code",
   "execution_count": 117,
   "metadata": {},
   "outputs": [
    {
     "data": {
      "text/html": [
       "<div>\n",
       "<style scoped>\n",
       "    .dataframe tbody tr th:only-of-type {\n",
       "        vertical-align: middle;\n",
       "    }\n",
       "\n",
       "    .dataframe tbody tr th {\n",
       "        vertical-align: top;\n",
       "    }\n",
       "\n",
       "    .dataframe thead th {\n",
       "        text-align: right;\n",
       "    }\n",
       "</style>\n",
       "<table border=\"1\" class=\"dataframe\">\n",
       "  <thead>\n",
       "    <tr style=\"text-align: right;\">\n",
       "      <th></th>\n",
       "      <th>State</th>\n",
       "      <th>Participation</th>\n",
       "      <th>English</th>\n",
       "      <th>Math</th>\n",
       "      <th>Reading</th>\n",
       "      <th>Science</th>\n",
       "      <th>Composite</th>\n",
       "      <th>State_alias</th>\n",
       "    </tr>\n",
       "  </thead>\n",
       "  <tbody>\n",
       "    <tr>\n",
       "      <th>0</th>\n",
       "      <td>Alabama</td>\n",
       "      <td>100.0</td>\n",
       "      <td>18.9</td>\n",
       "      <td>18.4</td>\n",
       "      <td>19.7</td>\n",
       "      <td>19.4</td>\n",
       "      <td>19.2</td>\n",
       "      <td>Alab</td>\n",
       "    </tr>\n",
       "    <tr>\n",
       "      <th>1</th>\n",
       "      <td>Alaska</td>\n",
       "      <td>65.0</td>\n",
       "      <td>18.7</td>\n",
       "      <td>19.8</td>\n",
       "      <td>20.4</td>\n",
       "      <td>19.9</td>\n",
       "      <td>19.8</td>\n",
       "      <td>Alas</td>\n",
       "    </tr>\n",
       "    <tr>\n",
       "      <th>2</th>\n",
       "      <td>Arizona</td>\n",
       "      <td>62.0</td>\n",
       "      <td>18.6</td>\n",
       "      <td>19.8</td>\n",
       "      <td>20.1</td>\n",
       "      <td>19.8</td>\n",
       "      <td>19.7</td>\n",
       "      <td>Ariz</td>\n",
       "    </tr>\n",
       "    <tr>\n",
       "      <th>3</th>\n",
       "      <td>Arkansas</td>\n",
       "      <td>100.0</td>\n",
       "      <td>18.9</td>\n",
       "      <td>19.0</td>\n",
       "      <td>19.7</td>\n",
       "      <td>19.5</td>\n",
       "      <td>19.4</td>\n",
       "      <td>Arka</td>\n",
       "    </tr>\n",
       "    <tr>\n",
       "      <th>4</th>\n",
       "      <td>California</td>\n",
       "      <td>31.0</td>\n",
       "      <td>22.5</td>\n",
       "      <td>22.7</td>\n",
       "      <td>23.1</td>\n",
       "      <td>22.2</td>\n",
       "      <td>22.8</td>\n",
       "      <td>Cali</td>\n",
       "    </tr>\n",
       "    <tr>\n",
       "      <th>5</th>\n",
       "      <td>Colorado</td>\n",
       "      <td>100.0</td>\n",
       "      <td>20.1</td>\n",
       "      <td>20.3</td>\n",
       "      <td>21.2</td>\n",
       "      <td>20.9</td>\n",
       "      <td>20.8</td>\n",
       "      <td>Colo</td>\n",
       "    </tr>\n",
       "    <tr>\n",
       "      <th>6</th>\n",
       "      <td>Connecticut</td>\n",
       "      <td>31.0</td>\n",
       "      <td>25.5</td>\n",
       "      <td>24.6</td>\n",
       "      <td>25.6</td>\n",
       "      <td>24.6</td>\n",
       "      <td>25.2</td>\n",
       "      <td>Conn</td>\n",
       "    </tr>\n",
       "    <tr>\n",
       "      <th>7</th>\n",
       "      <td>Delaware</td>\n",
       "      <td>18.0</td>\n",
       "      <td>24.1</td>\n",
       "      <td>23.4</td>\n",
       "      <td>24.8</td>\n",
       "      <td>23.6</td>\n",
       "      <td>24.1</td>\n",
       "      <td>Dela</td>\n",
       "    </tr>\n",
       "    <tr>\n",
       "      <th>8</th>\n",
       "      <td>District of Columbia</td>\n",
       "      <td>32.0</td>\n",
       "      <td>24.4</td>\n",
       "      <td>23.5</td>\n",
       "      <td>24.9</td>\n",
       "      <td>23.5</td>\n",
       "      <td>24.2</td>\n",
       "      <td>Dist</td>\n",
       "    </tr>\n",
       "    <tr>\n",
       "      <th>9</th>\n",
       "      <td>Florida</td>\n",
       "      <td>73.0</td>\n",
       "      <td>19.0</td>\n",
       "      <td>19.4</td>\n",
       "      <td>21.0</td>\n",
       "      <td>19.4</td>\n",
       "      <td>19.8</td>\n",
       "      <td>Flor</td>\n",
       "    </tr>\n",
       "  </tbody>\n",
       "</table>\n",
       "</div>"
      ],
      "text/plain": [
       "                  State  Participation  English  Math  Reading  Science  \\\n",
       "0               Alabama          100.0     18.9  18.4     19.7     19.4   \n",
       "1                Alaska           65.0     18.7  19.8     20.4     19.9   \n",
       "2               Arizona           62.0     18.6  19.8     20.1     19.8   \n",
       "3              Arkansas          100.0     18.9  19.0     19.7     19.5   \n",
       "4            California           31.0     22.5  22.7     23.1     22.2   \n",
       "5              Colorado          100.0     20.1  20.3     21.2     20.9   \n",
       "6           Connecticut           31.0     25.5  24.6     25.6     24.6   \n",
       "7              Delaware           18.0     24.1  23.4     24.8     23.6   \n",
       "8  District of Columbia           32.0     24.4  23.5     24.9     23.5   \n",
       "9               Florida           73.0     19.0  19.4     21.0     19.4   \n",
       "\n",
       "   Composite State_alias  \n",
       "0       19.2        Alab  \n",
       "1       19.8        Alas  \n",
       "2       19.7        Ariz  \n",
       "3       19.4        Arka  \n",
       "4       22.8        Cali  \n",
       "5       20.8        Colo  \n",
       "6       25.2        Conn  \n",
       "7       24.1        Dela  \n",
       "8       24.2        Dist  \n",
       "9       19.8        Flor  "
      ]
     },
     "execution_count": 117,
     "metadata": {},
     "output_type": "execute_result"
    }
   ],
   "source": [
    "act_17['State_alias'] = alias(act_17['State'])\n",
    "act_17.head(10)"
   ]
  },
  {
   "cell_type": "code",
   "execution_count": null,
   "metadata": {},
   "outputs": [],
   "source": [
    "# Membuat line chart dari data act_17\n",
    "# ambil kolomm untuk diplot\n",
    "fig, ax = plt.subplots(figsize=(30,10))\n",
    "x = act_17.loc[:,'State_alias']\n",
    "y = act_17.loc[:,'English']\n",
    "ax.bar(x, y)\n",
    "# set title dan labels \n",
    "ax.set_title('ACT 2017') \n",
    "ax.set_xlabel('State') \n",
    "ax.set_ylabel('English')"
   ]
  },
  {
   "cell_type": "code",
   "execution_count": null,
   "metadata": {},
   "outputs": [],
   "source": [
    "# Membuat line chart dari data act_17\n",
    "# ambil kolomm untuk diplot\n",
    "fig, ax = plt.subplots(figsize=(10,5))\n",
    "x = ['English', 'Math', 'Reading', 'Science']\n",
    "y = act_17.loc[0,['English', 'Math', 'Reading', 'Science']]\n",
    "ax.bar(x, y)\n",
    "# set title dan labels \n",
    "ax.set_title('ACT 2017') \n",
    "ax.set_xlabel('Subject') \n",
    "ax.set_ylabel('Score')"
   ]
  },
  {
   "cell_type": "markdown",
   "metadata": {},
   "source": [
    "Tujuan analisis kita ingin membandingkan SAT dan ACT data, maka semakin mirip variabel yang dimiliki oleh masing-masing dataset maka semakin membantu.Maka dari itu, kita akan mempertahankan variabel-variabel yang ada di keduanya yaitu State, Participation, Total (SAT) dan Composite (ACT).\n",
    "\n",
    "Jika tujuan kita ingin membandingkan antar tahun maka pertahankan sebanyak mungkin variabel. Misalkan kita membandingkan nilai Math pada SAT 2017 dengan SAT 2018"
   ]
  },
  {
   "cell_type": "markdown",
   "metadata": {},
   "source": [
    "\n",
    "Mengecek Missing Value"
   ]
  },
  {
   "cell_type": "markdown",
   "metadata": {},
   "source": [
    "Mengecek Tipe Data"
   ]
  },
  {
   "cell_type": "markdown",
   "metadata": {},
   "source": [
    "Tidak ada missing value namun pada variabel Participation pada data ACT bertipe Object yang artinya dianggap sebagai String. Jika data diaggap String maka tidak bisa dilakukan kalkulasi."
   ]
  },
  {
   "cell_type": "code",
   "execution_count": 24,
   "metadata": {},
   "outputs": [
    {
     "data": {
      "text/html": [
       "<div>\n",
       "<style scoped>\n",
       "    .dataframe tbody tr th:only-of-type {\n",
       "        vertical-align: middle;\n",
       "    }\n",
       "\n",
       "    .dataframe tbody tr th {\n",
       "        vertical-align: top;\n",
       "    }\n",
       "\n",
       "    .dataframe thead th {\n",
       "        text-align: right;\n",
       "    }\n",
       "</style>\n",
       "<table border=\"1\" class=\"dataframe\">\n",
       "  <thead>\n",
       "    <tr style=\"text-align: right;\">\n",
       "      <th></th>\n",
       "      <th>State</th>\n",
       "      <th>Participation</th>\n",
       "      <th>Total</th>\n",
       "    </tr>\n",
       "  </thead>\n",
       "  <tbody>\n",
       "    <tr>\n",
       "      <th>0</th>\n",
       "      <td>Alabama</td>\n",
       "      <td>6%</td>\n",
       "      <td>1166</td>\n",
       "    </tr>\n",
       "    <tr>\n",
       "      <th>1</th>\n",
       "      <td>Alaska</td>\n",
       "      <td>43%</td>\n",
       "      <td>1106</td>\n",
       "    </tr>\n",
       "    <tr>\n",
       "      <th>2</th>\n",
       "      <td>Arizona</td>\n",
       "      <td>29%</td>\n",
       "      <td>1149</td>\n",
       "    </tr>\n",
       "    <tr>\n",
       "      <th>3</th>\n",
       "      <td>Arkansas</td>\n",
       "      <td>5%</td>\n",
       "      <td>1169</td>\n",
       "    </tr>\n",
       "    <tr>\n",
       "      <th>4</th>\n",
       "      <td>California</td>\n",
       "      <td>60%</td>\n",
       "      <td>1076</td>\n",
       "    </tr>\n",
       "  </tbody>\n",
       "</table>\n",
       "</div>"
      ],
      "text/plain": [
       "        State Participation  Total\n",
       "0     Alabama            6%   1166\n",
       "1      Alaska           43%   1106\n",
       "2     Arizona           29%   1149\n",
       "3    Arkansas            5%   1169\n",
       "4  California           60%   1076"
      ]
     },
     "execution_count": 24,
     "metadata": {},
     "output_type": "execute_result"
    }
   ],
   "source": [
    "sat_18.head()"
   ]
  },
  {
   "cell_type": "markdown",
   "metadata": {},
   "source": [
    "terbaca String karena menggunakan % seharusnya Composite dan Participation bertipe float"
   ]
  },
  {
   "cell_type": "code",
   "execution_count": 28,
   "metadata": {},
   "outputs": [
    {
     "data": {
      "text/html": [
       "<div>\n",
       "<style scoped>\n",
       "    .dataframe tbody tr th:only-of-type {\n",
       "        vertical-align: middle;\n",
       "    }\n",
       "\n",
       "    .dataframe tbody tr th {\n",
       "        vertical-align: top;\n",
       "    }\n",
       "\n",
       "    .dataframe thead th {\n",
       "        text-align: right;\n",
       "    }\n",
       "</style>\n",
       "<table border=\"1\" class=\"dataframe\">\n",
       "  <thead>\n",
       "    <tr style=\"text-align: right;\">\n",
       "      <th></th>\n",
       "      <th>State</th>\n",
       "      <th>Participation</th>\n",
       "      <th>Composite</th>\n",
       "    </tr>\n",
       "  </thead>\n",
       "  <tbody>\n",
       "    <tr>\n",
       "      <th>45</th>\n",
       "      <td>Virginia</td>\n",
       "      <td>29.0</td>\n",
       "      <td>23.8</td>\n",
       "    </tr>\n",
       "    <tr>\n",
       "      <th>46</th>\n",
       "      <td>Washington</td>\n",
       "      <td>29.0</td>\n",
       "      <td>21.9</td>\n",
       "    </tr>\n",
       "    <tr>\n",
       "      <th>47</th>\n",
       "      <td>West Virginia</td>\n",
       "      <td>69.0</td>\n",
       "      <td>20.4</td>\n",
       "    </tr>\n",
       "    <tr>\n",
       "      <th>48</th>\n",
       "      <td>Wisconsin</td>\n",
       "      <td>100.0</td>\n",
       "      <td>20.5</td>\n",
       "    </tr>\n",
       "    <tr>\n",
       "      <th>49</th>\n",
       "      <td>Wyoming</td>\n",
       "      <td>100.0</td>\n",
       "      <td>20.2</td>\n",
       "    </tr>\n",
       "  </tbody>\n",
       "</table>\n",
       "</div>"
      ],
      "text/plain": [
       "            State  Participation  Composite\n",
       "45       Virginia           29.0       23.8\n",
       "46     Washington           29.0       21.9\n",
       "47  West Virginia           69.0       20.4\n",
       "48      Wisconsin          100.0       20.5\n",
       "49        Wyoming          100.0       20.2"
      ]
     },
     "execution_count": 28,
     "metadata": {},
     "output_type": "execute_result"
    }
   ],
   "source": [
    "act_17.tail()"
   ]
  },
  {
   "cell_type": "code",
   "execution_count": 29,
   "metadata": {},
   "outputs": [
    {
     "data": {
      "text/plain": [
       "<matplotlib.axes._subplots.AxesSubplot at 0x1ff2ffac5f8>"
      ]
     },
     "execution_count": 29,
     "metadata": {},
     "output_type": "execute_result"
    },
    {
     "data": {
      "image/png": "[encoded data removed]",
      "text/plain": [
       "<Figure size 432x288 with 1 Axes>"
      ]
     },
     "metadata": {
      "needs_background": "light"
     },
     "output_type": "display_data"
    }
   ],
   "source": [
    "sns.distplot(act_17.loc[:,'Participation'], kde=False, rug=True, bins=15)"
   ]
  },
  {
   "cell_type": "code",
   "execution_count": null,
   "metadata": {},
   "outputs": [],
   "source": []
  }
 ],
 "metadata": {
  "kernelspec": {
   "display_name": "Python 3",
   "language": "python",
   "name": "python3"
  },
  "language_info": {
   "codemirror_mode": {
    "name": "ipython",
    "version": 3
   },
   "file_extension": ".py",
   "mimetype": "text/x-python",
   "name": "python",
   "nbconvert_exporter": "python",
   "pygments_lexer": "ipython3",
   "version": "3.6.7"
  }
 },
 "nbformat": 4,
 "nbformat_minor": 2
}
