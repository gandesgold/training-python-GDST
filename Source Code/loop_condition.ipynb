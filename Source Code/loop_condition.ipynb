{
 "cells": [
  {
   "cell_type": "code",
   "execution_count": 7,
   "metadata": {},
   "outputs": [
    {
     "name": "stdout",
     "output_type": "stream",
     "text": [
      "Cheesy pan pizza is my all-time favorite!\n",
      "Finally, I’m full!\n",
      "Please pay $16. Thank you!\n",
      "Delicious, cheesy Pan Pizza\n",
      "Finally, I’m full!\n",
      "Cheesy pan pizza is my all-time favorite!\n",
      "Finally, I’m full!\n",
      "Cheesy pan pizza is my all-time favorite!\n",
      "Finally, I’m full!\n"
     ]
    }
   ],
   "source": [
    "pizza = [\"New York Style Pizza\", \"Pan Pizza\", \"Thin n Crispy Pizza\", \"Stuffed Crust Pizza\"]\n",
    "for choice in pizza:\n",
    "    if choice == \"Pan Pizza\":\n",
    "        print(\"Please pay $16. Thank you!\")\n",
    "        print(\"Delicious, cheesy \" + choice)\n",
    "    else:\n",
    "        print(\"Cheesy pan pizza is my all-time favorite!\")\n",
    "    print(\"Finally, I’m full!\")\n"
   ]
  },
  {
   "cell_type": "code",
   "execution_count": 8,
   "metadata": {},
   "outputs": [
    {
     "name": "stdout",
     "output_type": "stream",
     "text": [
      "Cheesy pan pizza is my all-time favorite!\n",
      "Finally, I’m full!\n",
      "Please pay $16. Thank you!\n"
     ]
    }
   ],
   "source": [
    "pizza = [\"New York Style Pizza\", \"Pan Pizza\", \"Thin n Crispy Pizza\", \"Stuffed Crust Pizza\"]\n",
    "for choice in pizza:\n",
    "    if choice == \"Pan Pizza\":\n",
    "        print(\"Please pay $16. Thank you!\")\n",
    "        break\n",
    "        print(\"Delicious, cheesy \" + choice)\n",
    "    else:\n",
    "        print(\"Cheesy pan pizza is my all-time favorite!\")\n",
    "    print(\"Finally, I’m full!\")"
   ]
  },
  {
   "cell_type": "code",
   "execution_count": 9,
   "metadata": {},
   "outputs": [
    {
     "name": "stdout",
     "output_type": "stream",
     "text": [
      "Cheesy pan pizza is my all-time favorite!\n",
      "Finally, I’m full!\n",
      "Please pay $16. Thank you!\n",
      "Cheesy pan pizza is my all-time favorite!\n",
      "Finally, I’m full!\n",
      "Cheesy pan pizza is my all-time favorite!\n",
      "Finally, I’m full!\n"
     ]
    }
   ],
   "source": [
    "pizza = [\"New York Style Pizza\", \"Pan Pizza\", \"Thin n Crispy Pizza\", \"Stuffed Crust Pizza\"]\n",
    "for choice in pizza:\n",
    "    if choice == \"Pan Pizza\":\n",
    "        print(\"Please pay $16. Thank you!\")\n",
    "        continue\n",
    "        print(\"Delicious, cheesy \" + choice)\n",
    "    else:\n",
    "        print(\"Cheesy pan pizza is my all-time favorite!\")\n",
    "    print(\"Finally, I’m full!\")"
   ]
  },
  {
   "cell_type": "code",
   "execution_count": 11,
   "metadata": {},
   "outputs": [
    {
     "name": "stdout",
     "output_type": "stream",
     "text": [
      "Sum of 1 until 50: 1275\n"
     ]
    }
   ],
   "source": [
    "x = 50\n",
    "total = 0\n",
    "for number in range(1, x+1):\n",
    "    total = total + number\n",
    "print(\"Sum of 1 until %d: %d\" % (x, total))"
   ]
  }
 ],
 "metadata": {
  "kernelspec": {
   "display_name": "Python 3",
   "language": "python",
   "name": "python3"
  },
  "language_info": {
   "codemirror_mode": {
    "name": "ipython",
    "version": 3
   },
   "file_extension": ".py",
   "mimetype": "text/x-python",
   "name": "python",
   "nbconvert_exporter": "python",
   "pygments_lexer": "ipython3",
   "version": "3.6.7"
  }
 },
 "nbformat": 4,
 "nbformat_minor": 2
}
