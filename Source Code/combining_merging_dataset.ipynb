{
 "cells": [
  {
   "cell_type": "code",
   "execution_count": 2,
   "metadata": {},
   "outputs": [],
   "source": [
    "import pandas as pd\n",
    "from pandas import DataFrame\n",
    "import numpy as np"
   ]
  },
  {
   "cell_type": "code",
   "execution_count": 4,
   "metadata": {
    "scrolled": true
   },
   "outputs": [
    {
     "name": "stdout",
     "output_type": "stream",
     "text": [
      "  key  data1\n",
      "0   b      0\n",
      "1   b      1\n",
      "2   a      2\n",
      "3   c      3\n",
      "4   a      4\n",
      "5   a      5\n",
      "6   b      6\n",
      "  key  data2\n",
      "0   a      0\n",
      "1   b      1\n",
      "2   d      2\n"
     ]
    }
   ],
   "source": [
    "df1 = DataFrame({'key':['b','b','a','c','a','a','b'],\n",
    "                  'data1' : range(7)})\n",
    "df2 = DataFrame({'key':['a','b','d'],\n",
    "                  'data2' : range(3)})\n",
    "print(df1)\n",
    "print(df2)"
   ]
  },
  {
   "cell_type": "code",
   "execution_count": 5,
   "metadata": {},
   "outputs": [
    {
     "name": "stdout",
     "output_type": "stream",
     "text": [
      "  key  data1  data2\n",
      "0   b      0      1\n",
      "1   b      1      1\n",
      "2   b      6      1\n",
      "3   a      2      0\n",
      "4   a      4      0\n",
      "5   a      5      0\n"
     ]
    }
   ],
   "source": [
    "#merging two datasets without specifying which column to join\n",
    "print(pd.merge(df1, df2))\n",
    "df3 = pd.merge(df1, df2)"
   ]
  },
  {
   "cell_type": "code",
   "execution_count": 23,
   "metadata": {},
   "outputs": [
    {
     "name": "stdout",
     "output_type": "stream",
     "text": [
      "  key  data1  data2\n",
      "0   b      0      1\n",
      "1   b      1      1\n",
      "2   b      6      1\n",
      "3   a      2      0\n",
      "4   a      4      0\n",
      "5   a      5      0\n"
     ]
    }
   ],
   "source": [
    "#merging two datasets with spcifying which column to join\n",
    "print(pd.merge(df1, df2, on='key'))"
   ]
  },
  {
   "cell_type": "code",
   "execution_count": 6,
   "metadata": {},
   "outputs": [],
   "source": [
    "df3 = DataFrame({'lkey':['b','b','a','c','a','a','b'],\n",
    "                  'data1' : range(7)})\n",
    "df4 = DataFrame({'rkey':['a','b','d'],\n",
    "                  'data2' : range(3)})"
   ]
  },
  {
   "cell_type": "code",
   "execution_count": 8,
   "metadata": {
    "scrolled": true
   },
   "outputs": [
    {
     "name": "stdout",
     "output_type": "stream",
     "text": [
      "  lkey  data1 rkey  data2\n",
      "0    b      0    a      0\n",
      "1    b      1    b      1\n",
      "2    a      2    d      2\n"
     ]
    }
   ],
   "source": [
    "#merging two datasets with same values of two coloumns\n",
    "#It is called as inner join\n",
    "print(pd.merge(df3, df4, left_on='data1', right_on='data2'))"
   ]
  },
  {
   "cell_type": "code",
   "execution_count": 11,
   "metadata": {},
   "outputs": [
    {
     "name": "stdout",
     "output_type": "stream",
     "text": [
      "  key  data1\n",
      "0   b      0\n",
      "1   b      1\n",
      "2   a      2\n",
      "3   c      3\n",
      "4   a      4\n",
      "5   a      5\n",
      "6   b      6\n",
      "  key  data2\n",
      "0   a      0\n",
      "1   b      1\n",
      "2   d      2\n",
      "  key  data1  data2\n",
      "0   b    0.0    1.0\n",
      "1   b    1.0    1.0\n",
      "2   b    6.0    1.0\n",
      "3   a    2.0    0.0\n",
      "4   a    4.0    0.0\n",
      "5   a    5.0    0.0\n",
      "6   c    3.0    NaN\n",
      "7   d    NaN    2.0\n"
     ]
    }
   ],
   "source": [
    "#outer join\n",
    "print(df1)\n",
    "print(df2)\n",
    "print(pd.merge(df1, df2, how='outer'))"
   ]
  },
  {
   "cell_type": "code",
   "execution_count": 13,
   "metadata": {},
   "outputs": [],
   "source": [
    "df5 = DataFrame({'key':['b','b','a','c','a','b'],\n",
    "                  'data1' : range(6)})\n",
    "df6 = DataFrame({'key':['a','b','a', 'b', 'd'],\n",
    "                  'data2' : range(5)})"
   ]
  },
  {
   "cell_type": "code",
   "execution_count": 19,
   "metadata": {},
   "outputs": [
    {
     "name": "stdout",
     "output_type": "stream",
     "text": [
      "   key  data1  data2\n",
      "0    b    0.0    1.0\n",
      "1    b    0.0    3.0\n",
      "2    b    1.0    1.0\n",
      "3    b    1.0    3.0\n",
      "4    b    5.0    1.0\n",
      "5    b    5.0    3.0\n",
      "6    a    2.0    0.0\n",
      "7    a    2.0    2.0\n",
      "8    a    4.0    0.0\n",
      "9    a    4.0    2.0\n",
      "10   c    3.0    NaN\n",
      "11   d    NaN    4.0\n"
     ]
    }
   ],
   "source": [
    "#lef join (many-to-many)\n",
    "print(pd.merge(df5, df6, on='key', how='outer'))"
   ]
  },
  {
   "cell_type": "code",
   "execution_count": 22,
   "metadata": {},
   "outputs": [],
   "source": [
    "df7 = DataFrame({'key1':['foo', 'foo', 'bar'],\n",
    "                 'key2':['one', 'two', 'one'],\n",
    "                 'lval': [1,2,3]})\n",
    "df8 = DataFrame({'key1':['foo', 'foo', 'bar', 'bar'],\n",
    "                 'key2':['one', 'one', 'two', 'two'],\n",
    "                 'rval': [4,5,6,7]})"
   ]
  },
  {
   "cell_type": "code",
   "execution_count": 25,
   "metadata": {},
   "outputs": [
    {
     "name": "stdout",
     "output_type": "stream",
     "text": [
      "  key1 key2  lval  rval\n",
      "0  foo  one     1     4\n",
      "1  foo  one     1     5\n",
      "\n",
      "  key1 key2  lval  rval\n",
      "0  foo  one   1.0   4.0\n",
      "1  foo  one   1.0   5.0\n",
      "2  foo  two   2.0   NaN\n",
      "3  bar  one   3.0   NaN\n",
      "4  bar  two   NaN   6.0\n",
      "5  bar  two   NaN   7.0\n"
     ]
    }
   ],
   "source": [
    "#merge with multiple keys\n",
    "print(pd.merge(df7, df8, on=['key1', 'key2']))\n",
    "print()\n",
    "print(pd.merge(df7, df8, on=['key1', 'key2'], how='outer'))"
   ]
  },
  {
   "cell_type": "code",
   "execution_count": 30,
   "metadata": {},
   "outputs": [],
   "source": [
    "#Merging on Index\n",
    "left1 = DataFrame({'key': ['a', 'b', 'a', 'a', 'b', 'c'],\n",
    "                            'value': range(6)})\n",
    "right1 = DataFrame({'group_val': [3.5, 7]}, \n",
    "                   index=['a', 'b'])"
   ]
  },
  {
   "cell_type": "code",
   "execution_count": 31,
   "metadata": {},
   "outputs": [
    {
     "name": "stdout",
     "output_type": "stream",
     "text": [
      "  key  value  group_val\n",
      "0   a      0        3.5\n",
      "2   a      2        3.5\n",
      "3   a      3        3.5\n",
      "1   b      1        7.0\n",
      "4   b      4        7.0\n"
     ]
    }
   ],
   "source": [
    "#You can pass left_index=True or right_index=True (or both) to indicate that the\n",
    "#index should be used as the merge key\n",
    "print(pd.merge(left1, right1, left_on='key', right_index=True))"
   ]
  },
  {
   "cell_type": "code",
   "execution_count": 38,
   "metadata": {},
   "outputs": [
    {
     "name": "stdout",
     "output_type": "stream",
     "text": [
      "Lefth dataset: \n",
      "      key1  key2  data\n",
      "0    Ohio  2000   0.0\n",
      "1    Ohio  2001   1.0\n",
      "2    Ohio  2002   2.0\n",
      "3  Nevada  2001   3.0\n",
      "4  Nevada  2002   4.0\n",
      "\n",
      "Righth dataset: \n",
      "              event1  event2\n",
      "Nevada 2001       0       1\n",
      "       2000       2       3\n",
      "Ohio   2000       4       5\n",
      "       2000       6       7\n",
      "       2001       8       9\n",
      "       2002      10      11\n"
     ]
    }
   ],
   "source": [
    "#Hierarchically-indexed data\n",
    "lefth = DataFrame({'key1': ['Ohio', 'Ohio', 'Ohio', 'Nevada', 'Nevada'],\n",
    "                   'key2': [2000, 2001, 2002, 2001, 2002],\n",
    "                   'data': np.arange(5.)})\n",
    "righth = DataFrame(np.arange(12).reshape((6, 2)),\n",
    "                   index=[['Nevada', 'Nevada', 'Ohio', 'Ohio', 'Ohio', 'Ohio'],\n",
    "                          [2001, 2000, 2000, 2000, 2001, 2002]],\n",
    "                   columns=['event1', 'event2'])\n",
    "print(\"Lefth dataset: \\n\", lefth)\n",
    "print()\n",
    "print(\"Righth dataset: \\n\",righth)"
   ]
  },
  {
   "cell_type": "code",
   "execution_count": 32,
   "metadata": {},
   "outputs": [
    {
     "name": "stdout",
     "output_type": "stream",
     "text": [
      "number    one  two  three\n",
      "state                    \n",
      "Ohio        0    1      2\n",
      "Colorado    3    4      5\n",
      "          one  two  three\n",
      "Ohio        0    1      2\n",
      "Colorado    3    4      5\n",
      "\n",
      "Ohio      one      0\n",
      "          two      1\n",
      "          three    2\n",
      "Colorado  one      3\n",
      "          two      4\n",
      "          three    5\n",
      "dtype: int32\n",
      "one    Ohio        0\n",
      "       Colorado    3\n",
      "two    Ohio        1\n",
      "       Colorado    4\n",
      "three  Ohio        2\n",
      "       Colorado    5\n",
      "dtype: int32\n"
     ]
    }
   ],
   "source": [
    "data = DataFrame(np.arange(6).reshape(2,3),\n",
    "                index = pd.Index(['Ohio', 'Colorado'], name='state'),\n",
    "                columns=pd.Index(['one', 'two', 'three'], name='number') \n",
    "                )\n",
    "data1 = DataFrame(np.arange(6).reshape(2,3),\n",
    "                index = pd.Index(['Ohio', 'Colorado']),\n",
    "                columns=pd.Index(['one', 'two', 'three']) \n",
    "                )\n",
    "\n",
    "print(data)\n",
    "print(data1)\n",
    "print()\n",
    "print(data1.stack())\n",
    "print(data1.unstack())"
   ]
  },
  {
   "cell_type": "code",
   "execution_count": 40,
   "metadata": {},
   "outputs": [
    {
     "name": "stdout",
     "output_type": "stream",
     "text": [
      "     key1  key2  data  event1  event2\n",
      "0    Ohio  2000   0.0       4       5\n",
      "0    Ohio  2000   0.0       6       7\n",
      "1    Ohio  2001   1.0       8       9\n",
      "2    Ohio  2002   2.0      10      11\n",
      "3  Nevada  2001   3.0       0       1\n"
     ]
    }
   ],
   "source": [
    "#Merging hierarchically-indexed data\n",
    "#You have to indicate multiple columns to merge on as a list\n",
    "print(pd.merge(lefth, righth, left_on=['key1', 'key2'], right_index=True))"
   ]
  },
  {
   "cell_type": "code",
   "execution_count": null,
   "metadata": {},
   "outputs": [],
   "source": []
  }
 ],
 "metadata": {
  "kernelspec": {
   "display_name": "Python 3",
   "language": "python",
   "name": "python3"
  },
  "language_info": {
   "codemirror_mode": {
    "name": "ipython",
    "version": 3
   },
   "file_extension": ".py",
   "mimetype": "text/x-python",
   "name": "python",
   "nbconvert_exporter": "python",
   "pygments_lexer": "ipython3",
   "version": "3.6.7"
  }
 },
 "nbformat": 4,
 "nbformat_minor": 2
}
